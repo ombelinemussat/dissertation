{
 "cells": [
  {
   "cell_type": "code",
   "execution_count": 15,
   "id": "1156d4b0-8a57-438a-b4f8-b2dfd48208d1",
   "metadata": {},
   "outputs": [
    {
     "name": "stdout",
     "output_type": "stream",
     "text": [
      "                                         article_url  \\\n",
      "0  https://www.thejournal.ie/bujo-planning-permis...   \n",
      "1  https://www.the42.ie/tyrone-dublin-league-repo...   \n",
      "2  https://www.thejournal.ie/missing-jamie-walsh-...   \n",
      "3  https://www.thejournal.ie/dept-health-evacuate...   \n",
      "4  https://www.thejournal.ie/valentines-day-deals...   \n",
      "\n",
      "                                        article_text article_date_created  \\\n",
      "0  \\nAWARD-WINNING DUBLIN BURGER restaurant BuJo ...   1.01am, 9 Mar 2019   \n",
      "1  Kevin O’Brien reports from Croke Park\\nTHIS WI...  9.25pm, 16 Mar 2019   \n",
      "2  A FOURTEEN-YEAR-old who went missing in Dublin...  7.45pm, 22 Mar 2019   \n",
      "3  LAST UPDATE|4 Mar 2019\\n\\nTheJournal.ie/ YouTu...  12.08pm, 4 Mar 2019   \n",
      "4  GROCERY SALES INCREASED by 3.5% in the latest ...  9.25pm, 11 Mar 2019   \n",
      "\n",
      "  article_date_updated  \n",
      "0                  NaN  \n",
      "1                  NaN  \n",
      "2                  NaN  \n",
      "3           4 Mar 2019  \n",
      "4                  NaN  \n"
     ]
    }
   ],
   "source": [
    "#we load the libraries needed\n",
    "import pandas as pd\n",
    "import re\n",
    "from datetime import datetime\n",
    "import matplotlib.pyplot as plt\n",
    "\n",
    "\n",
    "\n",
    "#we load the dataset\n",
    "articles_df = pd.read_csv(\"articles_2400_2422.csv\")\n",
    "\n",
    "print(articles_df.head())\n"
   ]
  },
  {
   "cell_type": "markdown",
   "id": "903743ad-0ffb-4b8d-8917-8f20d6c7911a",
   "metadata": {},
   "source": [
    "## Tidy up the article text ##"
   ]
  },
  {
   "cell_type": "code",
   "execution_count": 20,
   "id": "d2e7b0d6-9b13-4e1d-a8a9-bfcc7ecdce8e",
   "metadata": {},
   "outputs": [],
   "source": [
    "#we clean the text by putting everythin in lower case, removing unecessary text, punctuation and extra whitespace\n",
    "def clean_article_text(text):\n",
    "    #put all the text in lowercase\n",
    "    text = text.lower()\n",
    "\n",
    "\n",
    "    #we remove \"last update\" lines or similar metadata\n",
    "    text = re.sub(r'last update\\|?\\s*\\d{1,2}\\s\\w+\\s\\d{4}', '', text)\n",
    "\n",
    "    #and remove extra whitespace\n",
    "    text = re.sub(r'\\s+', ' ', text).strip()\n",
    "\n",
    "    return text\n",
    "\n",
    "#we apply this cleaning function to the text, after cleaning for empty rows\n",
    "articles_df = articles_df.dropna(subset=['article_text'])\n",
    "articles_df['cleaned_text'] = articles_df['article_text'].apply(clean_article_text)\n"
   ]
  },
  {
   "cell_type": "code",
   "execution_count": 21,
   "id": "2e564475-ae87-4870-a21d-c08e58c9b284",
   "metadata": {},
   "outputs": [
    {
     "name": "stdout",
     "output_type": "stream",
     "text": [
      "                                         article_url  \\\n",
      "0  https://www.thejournal.ie/bujo-planning-permis...   \n",
      "1  https://www.the42.ie/tyrone-dublin-league-repo...   \n",
      "2  https://www.thejournal.ie/missing-jamie-walsh-...   \n",
      "3  https://www.thejournal.ie/dept-health-evacuate...   \n",
      "4  https://www.thejournal.ie/valentines-day-deals...   \n",
      "\n",
      "                                        article_text article_date_created  \\\n",
      "0  \\nAWARD-WINNING DUBLIN BURGER restaurant BuJo ...   1.01am, 9 Mar 2019   \n",
      "1  Kevin O’Brien reports from Croke Park\\nTHIS WI...  9.25pm, 16 Mar 2019   \n",
      "2  A FOURTEEN-YEAR-old who went missing in Dublin...  7.45pm, 22 Mar 2019   \n",
      "3  LAST UPDATE|4 Mar 2019\\n\\nTheJournal.ie/ YouTu...  12.08pm, 4 Mar 2019   \n",
      "4  GROCERY SALES INCREASED by 3.5% in the latest ...  9.25pm, 11 Mar 2019   \n",
      "\n",
      "  article_date_updated                                       cleaned_text  \n",
      "0                  NaN  award-winning dublin burger restaurant bujo ha...  \n",
      "1                  NaN  kevin o’brien reports from croke park this win...  \n",
      "2                  NaN  a fourteen-year-old who went missing in dublin...  \n",
      "3           4 Mar 2019  thejournal.ie/ youtube the department of healt...  \n",
      "4                  NaN  grocery sales increased by 3.5% in the latest ...  \n"
     ]
    }
   ],
   "source": [
    "#we can check that it worked correctly\n",
    "print(articles_df.head())"
   ]
  },
  {
   "cell_type": "code",
   "execution_count": 22,
   "id": "2883fe23-264d-4705-ac9f-af4abef1c97c",
   "metadata": {},
   "outputs": [
    {
     "name": "stdout",
     "output_type": "stream",
     "text": [
      "<class 'pandas.core.frame.DataFrame'>\n",
      "Int64Index: 920 entries, 0 to 920\n",
      "Data columns (total 5 columns):\n",
      " #   Column                Non-Null Count  Dtype \n",
      "---  ------                --------------  ----- \n",
      " 0   article_url           920 non-null    object\n",
      " 1   article_text          920 non-null    object\n",
      " 2   article_date_created  919 non-null    object\n",
      " 3   article_date_updated  94 non-null     object\n",
      " 4   cleaned_text          920 non-null    object\n",
      "dtypes: object(5)\n",
      "memory usage: 43.1+ KB\n"
     ]
    }
   ],
   "source": [
    "#check the structure\n",
    "articles_df.info()"
   ]
  },
  {
   "cell_type": "code",
   "execution_count": 23,
   "id": "502a5ad6-ea27-4ff7-9e52-2a7fe16effa0",
   "metadata": {},
   "outputs": [],
   "source": [
    "#we need to change the format to datetime for the created and updated dates\n",
    "articles_df['article_date_created'] = pd.to_datetime(\n",
    "    articles_df['article_date_created'], \n",
    "    format='%I.%M%p, %d %b %Y', \n",
    "    errors='coerce'\n",
    ")\n",
    "\n",
    "articles_df['article_date_updated'] = pd.to_datetime(\n",
    "    articles_df['article_date_updated'], \n",
    "    format='%d %b %Y', \n",
    "    errors='coerce'\n",
    ")\n"
   ]
  },
  {
   "cell_type": "code",
   "execution_count": 24,
   "id": "efad8586-8277-41cd-a068-fc11d2d688f1",
   "metadata": {},
   "outputs": [
    {
     "name": "stdout",
     "output_type": "stream",
     "text": [
      "article_date_created    datetime64[ns]\n",
      "article_date_updated    datetime64[ns]\n",
      "dtype: object\n",
      "  article_date_created article_date_updated\n",
      "0  2019-03-09 01:01:00                  NaT\n",
      "1  2019-03-16 21:25:00                  NaT\n",
      "2  2019-03-22 19:45:00                  NaT\n",
      "3  2019-03-04 12:08:00           2019-03-04\n",
      "4  2019-03-11 21:25:00                  NaT\n"
     ]
    }
   ],
   "source": [
    "#we check the data types and how the data looks like\n",
    "print(articles_df[['article_date_created', 'article_date_updated']].dtypes)\n",
    "print(articles_df[['article_date_created', 'article_date_updated']].head())\n"
   ]
  },
  {
   "cell_type": "code",
   "execution_count": 25,
   "id": "32b53da9-e0db-4b2b-b684-04152513b9b9",
   "metadata": {},
   "outputs": [
    {
     "name": "stdout",
     "output_type": "stream",
     "text": [
      "<class 'pandas.core.frame.DataFrame'>\n",
      "Int64Index: 920 entries, 0 to 920\n",
      "Data columns (total 5 columns):\n",
      " #   Column                Non-Null Count  Dtype         \n",
      "---  ------                --------------  -----         \n",
      " 0   article_url           920 non-null    object        \n",
      " 1   article_text          920 non-null    object        \n",
      " 2   article_date_created  919 non-null    datetime64[ns]\n",
      " 3   article_date_updated  94 non-null     datetime64[ns]\n",
      " 4   cleaned_text          920 non-null    object        \n",
      "dtypes: datetime64[ns](2), object(3)\n",
      "memory usage: 43.1+ KB\n"
     ]
    }
   ],
   "source": [
    "articles_df.info()\n",
    "#this is what we wanted"
   ]
  },
  {
   "cell_type": "code",
   "execution_count": 26,
   "id": "ca852eca-2f95-46ef-8ac2-18cc44524030",
   "metadata": {},
   "outputs": [],
   "source": [
    "#we save this clean data into another csv\n",
    "articles_df.to_csv('cleaned_articles_other_subjects.csv', index=False)"
   ]
  },
  {
   "cell_type": "code",
   "execution_count": null,
   "id": "b223e689-bbfd-45c9-bcb1-6fdf4f6fded1",
   "metadata": {},
   "outputs": [],
   "source": [
    "## Now we need to compare those articles with the Brexit articles in terms of sentiment"
   ]
  },
  {
   "cell_type": "code",
   "execution_count": null,
   "id": "81469e96-9f06-462e-babd-abc97ba8ef74",
   "metadata": {},
   "outputs": [],
   "source": []
  }
 ],
 "metadata": {
  "kernelspec": {
   "display_name": "Python 3 (ipykernel)",
   "language": "python",
   "name": "python3"
  },
  "language_info": {
   "codemirror_mode": {
    "name": "ipython",
    "version": 3
   },
   "file_extension": ".py",
   "mimetype": "text/x-python",
   "name": "python",
   "nbconvert_exporter": "python",
   "pygments_lexer": "ipython3",
   "version": "3.8.8"
  }
 },
 "nbformat": 4,
 "nbformat_minor": 5
}
