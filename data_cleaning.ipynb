{
 "cells": [
  {
   "cell_type": "code",
   "execution_count": 44,
   "id": "1156d4b0-8a57-438a-b4f8-b2dfd48208d1",
   "metadata": {},
   "outputs": [
    {
     "name": "stdout",
     "output_type": "stream",
     "text": [
      "                                         article_url  \\\n",
      "0  https://www.thejournal.ie/government-seeking-e...   \n",
      "1  https://www.thejournal.ie/rishi-sunak-northern...   \n",
      "2  https://www.thejournal.ie/migration-uk-eu-afte...   \n",
      "3  https://www.thejournal.ie/irish-exports-highes...   \n",
      "4  https://www.thejournal.ie/uk-bill-visa-non-eu-...   \n",
      "\n",
      "                                        article_text article_date_created  \\\n",
      "0  THE GOVERNMENT IS to seek an “early warning sy...   6.43pm, 9 Feb 2021   \n",
      "1  LAST UPDATE|16 Feb 2023\\nBRITISH PRIME MINISTE...  8.01pm, 16 Feb 2023   \n",
      "2  IT’S NOW OVER five years since the UK voted to...   9.00pm, 3 Oct 2021   \n",
      "3  THE VALUE OF goods exported from Ireland rose ...  4.01pm, 15 Feb 2022   \n",
      "4  TÁNAISTE LEO VARADKAR has said he will raise c...   3.42pm, 9 Dec 2021   \n",
      "\n",
      "  article_date_updated  \n",
      "0                  NaN  \n",
      "1          16 Feb 2023  \n",
      "2                  NaN  \n",
      "3                  NaN  \n",
      "4                  NaN  \n",
      "                                         article_url  \\\n",
      "0  https://www.thejournal.ie/government-seeking-e...   \n",
      "1  https://www.thejournal.ie/government-seeking-e...   \n",
      "2  https://www.thejournal.ie/government-seeking-e...   \n",
      "3  https://www.thejournal.ie/government-seeking-e...   \n",
      "4  https://www.thejournal.ie/government-seeking-e...   \n",
      "\n",
      "                                        comment_text           comment_date  \n",
      "0  An early warning system implies passivity and ...  Feb 9th 2021, 6:53 PM  \n",
      "1  @Fachtna Roe: At the very least we should be c...  Feb 9th 2021, 7:16 PM  \n",
      "2  I hate to admit it but for the first time ever...  Feb 9th 2021, 7:52 PM  \n",
      "3  @Mr Kayfabe: That some people on the remain si...  Feb 9th 2021, 8:11 PM  \n",
      "4  @Mr Kayfabe: the EU26 stuck with us throughout...  Feb 9th 2021, 9:04 PM  \n"
     ]
    }
   ],
   "source": [
    "#we load the libraries needed\n",
    "import pandas as pd\n",
    "import re\n",
    "from datetime import datetime\n",
    "import matplotlib.pyplot as plt\n",
    "\n",
    "\n",
    "\n",
    "#we load the datasets\n",
    "articles_df = pd.read_csv(\"articles_2016_2024.csv\")\n",
    "comments_df = pd.read_csv(\"comments_2016_2024.csv\")\n",
    "\n",
    "print(articles_df.head())\n",
    "print(comments_df.head())\n"
   ]
  },
  {
   "cell_type": "markdown",
   "id": "903743ad-0ffb-4b8d-8917-8f20d6c7911a",
   "metadata": {},
   "source": [
    "## Tidy up the article text ##"
   ]
  },
  {
   "cell_type": "code",
   "execution_count": 45,
   "id": "d2e7b0d6-9b13-4e1d-a8a9-bfcc7ecdce8e",
   "metadata": {},
   "outputs": [],
   "source": [
    "#we clean the text by putting everythin in lower case, removing unecessary text, punctuation and extra whitespace\n",
    "def clean_article_text(text):\n",
    "    #lowercase\n",
    "    text = text.lower()\n",
    "\n",
    "    #remove \"last update\" lines or similar metadata\n",
    "    text = re.sub(r'last update\\|?\\s*\\d{1,2}\\s\\w+\\s\\d{4}', '', text)\n",
    "\n",
    "    #remove extra whitespace\n",
    "    text = re.sub(r'\\s+', ' ', text).strip()\n",
    "\n",
    "    return text\n",
    "\n",
    "#apply this cleaning function to the text\n",
    "articles_df['cleaned_text'] = articles_df['article_text'].apply(clean_article_text)\n"
   ]
  },
  {
   "cell_type": "code",
   "execution_count": 46,
   "id": "2e564475-ae87-4870-a21d-c08e58c9b284",
   "metadata": {},
   "outputs": [
    {
     "name": "stdout",
     "output_type": "stream",
     "text": [
      "                                         article_url  \\\n",
      "0  https://www.thejournal.ie/government-seeking-e...   \n",
      "1  https://www.thejournal.ie/rishi-sunak-northern...   \n",
      "2  https://www.thejournal.ie/migration-uk-eu-afte...   \n",
      "3  https://www.thejournal.ie/irish-exports-highes...   \n",
      "4  https://www.thejournal.ie/uk-bill-visa-non-eu-...   \n",
      "\n",
      "                                        article_text article_date_created  \\\n",
      "0  THE GOVERNMENT IS to seek an “early warning sy...   6.43pm, 9 Feb 2021   \n",
      "1  LAST UPDATE|16 Feb 2023\\nBRITISH PRIME MINISTE...  8.01pm, 16 Feb 2023   \n",
      "2  IT’S NOW OVER five years since the UK voted to...   9.00pm, 3 Oct 2021   \n",
      "3  THE VALUE OF goods exported from Ireland rose ...  4.01pm, 15 Feb 2022   \n",
      "4  TÁNAISTE LEO VARADKAR has said he will raise c...   3.42pm, 9 Dec 2021   \n",
      "\n",
      "  article_date_updated                                       cleaned_text  \n",
      "0                  NaN  the government is to seek an “early warning sy...  \n",
      "1          16 Feb 2023  british prime minister rishi sunak has travell...  \n",
      "2                  NaN  it’s now over five years since the uk voted to...  \n",
      "3                  NaN  the value of goods exported from ireland rose ...  \n",
      "4                  NaN  tánaiste leo varadkar has said he will raise c...  \n"
     ]
    }
   ],
   "source": [
    "#we can check that it worked correctly\n",
    "print(articles_df.head())"
   ]
  },
  {
   "cell_type": "markdown",
   "id": "2ce0589e-7911-414c-b4c6-d22ffc4092e4",
   "metadata": {},
   "source": [
    "## Connect the number of comments per articles ##"
   ]
  },
  {
   "cell_type": "code",
   "execution_count": 47,
   "id": "12a3bb3b-5696-4330-9fa8-e1e4a6d5dec0",
   "metadata": {},
   "outputs": [],
   "source": [
    "#we want to connect the articles with the comments associated with them\n",
    "\n",
    "#first, group by article and count comments\n",
    "comment_counts = comments_df.groupby('article_url').size().reset_index(name='num_comments')\n",
    "\n",
    "#then merge back into articles_df\n",
    "articles_df = articles_df.merge(comment_counts, on='article_url', how='left')\n",
    "\n",
    "#finally fill articles with 0 comments\n",
    "articles_df['num_comments'] = articles_df['num_comments'].fillna(0).astype(int)\n"
   ]
  },
  {
   "cell_type": "code",
   "execution_count": 48,
   "id": "5c0b554a-3b74-4c18-85f6-fa856387c3f8",
   "metadata": {},
   "outputs": [
    {
     "name": "stdout",
     "output_type": "stream",
     "text": [
      "                                         article_url  \\\n",
      "0  https://www.thejournal.ie/government-seeking-e...   \n",
      "1  https://www.thejournal.ie/rishi-sunak-northern...   \n",
      "2  https://www.thejournal.ie/migration-uk-eu-afte...   \n",
      "3  https://www.thejournal.ie/irish-exports-highes...   \n",
      "4  https://www.thejournal.ie/uk-bill-visa-non-eu-...   \n",
      "\n",
      "                                        article_text article_date_created  \\\n",
      "0  THE GOVERNMENT IS to seek an “early warning sy...   6.43pm, 9 Feb 2021   \n",
      "1  LAST UPDATE|16 Feb 2023\\nBRITISH PRIME MINISTE...  8.01pm, 16 Feb 2023   \n",
      "2  IT’S NOW OVER five years since the UK voted to...   9.00pm, 3 Oct 2021   \n",
      "3  THE VALUE OF goods exported from Ireland rose ...  4.01pm, 15 Feb 2022   \n",
      "4  TÁNAISTE LEO VARADKAR has said he will raise c...   3.42pm, 9 Dec 2021   \n",
      "\n",
      "  article_date_updated                                       cleaned_text  \\\n",
      "0                  NaN  the government is to seek an “early warning sy...   \n",
      "1          16 Feb 2023  british prime minister rishi sunak has travell...   \n",
      "2                  NaN  it’s now over five years since the uk voted to...   \n",
      "3                  NaN  the value of goods exported from ireland rose ...   \n",
      "4                  NaN  tánaiste leo varadkar has said he will raise c...   \n",
      "\n",
      "   num_comments  \n",
      "0            12  \n",
      "1             7  \n",
      "2             7  \n",
      "3             6  \n",
      "4            32  \n"
     ]
    }
   ],
   "source": [
    "print(articles_df.head())"
   ]
  },
  {
   "cell_type": "code",
   "execution_count": 49,
   "id": "2883fe23-264d-4705-ac9f-af4abef1c97c",
   "metadata": {},
   "outputs": [
    {
     "name": "stdout",
     "output_type": "stream",
     "text": [
      "<class 'pandas.core.frame.DataFrame'>\n",
      "Int64Index: 2554 entries, 0 to 2553\n",
      "Data columns (total 6 columns):\n",
      " #   Column                Non-Null Count  Dtype \n",
      "---  ------                --------------  ----- \n",
      " 0   article_url           2554 non-null   object\n",
      " 1   article_text          2554 non-null   object\n",
      " 2   article_date_created  2554 non-null   object\n",
      " 3   article_date_updated  344 non-null    object\n",
      " 4   cleaned_text          2554 non-null   object\n",
      " 5   num_comments          2554 non-null   int64 \n",
      "dtypes: int64(1), object(5)\n",
      "memory usage: 139.7+ KB\n"
     ]
    }
   ],
   "source": [
    "#check the structure\n",
    "articles_df.info()"
   ]
  },
  {
   "cell_type": "code",
   "execution_count": 50,
   "id": "502a5ad6-ea27-4ff7-9e52-2a7fe16effa0",
   "metadata": {},
   "outputs": [],
   "source": [
    "#we need to change the format to datetime for the created and updated dates\n",
    "articles_df['article_date_created'] = pd.to_datetime(\n",
    "    articles_df['article_date_created'], \n",
    "    format='%I.%M%p, %d %b %Y', \n",
    "    errors='coerce'\n",
    ")\n",
    "\n",
    "articles_df['article_date_updated'] = pd.to_datetime(\n",
    "    articles_df['article_date_updated'], \n",
    "    format='%d %b %Y', \n",
    "    errors='coerce'\n",
    ")\n"
   ]
  },
  {
   "cell_type": "code",
   "execution_count": 51,
   "id": "efad8586-8277-41cd-a068-fc11d2d688f1",
   "metadata": {},
   "outputs": [
    {
     "name": "stdout",
     "output_type": "stream",
     "text": [
      "article_date_created    datetime64[ns]\n",
      "article_date_updated    datetime64[ns]\n",
      "dtype: object\n",
      "  article_date_created article_date_updated\n",
      "0  2021-02-09 18:43:00                  NaT\n",
      "1  2023-02-16 20:01:00           2023-02-16\n",
      "2  2021-10-03 21:00:00                  NaT\n",
      "3  2022-02-15 16:01:00                  NaT\n",
      "4  2021-12-09 15:42:00                  NaT\n"
     ]
    }
   ],
   "source": [
    "#we check the data types and how the data looks like\n",
    "print(articles_df[['article_date_created', 'article_date_updated']].dtypes)\n",
    "print(articles_df[['article_date_created', 'article_date_updated']].head())\n"
   ]
  },
  {
   "cell_type": "code",
   "execution_count": 52,
   "id": "32b53da9-e0db-4b2b-b684-04152513b9b9",
   "metadata": {},
   "outputs": [
    {
     "name": "stdout",
     "output_type": "stream",
     "text": [
      "<class 'pandas.core.frame.DataFrame'>\n",
      "Int64Index: 2554 entries, 0 to 2553\n",
      "Data columns (total 6 columns):\n",
      " #   Column                Non-Null Count  Dtype         \n",
      "---  ------                --------------  -----         \n",
      " 0   article_url           2554 non-null   object        \n",
      " 1   article_text          2554 non-null   object        \n",
      " 2   article_date_created  2554 non-null   datetime64[ns]\n",
      " 3   article_date_updated  344 non-null    datetime64[ns]\n",
      " 4   cleaned_text          2554 non-null   object        \n",
      " 5   num_comments          2554 non-null   int64         \n",
      "dtypes: datetime64[ns](2), int64(1), object(3)\n",
      "memory usage: 139.7+ KB\n"
     ]
    }
   ],
   "source": [
    "articles_df.info()\n",
    "#this is what we wanted"
   ]
  },
  {
   "cell_type": "code",
   "execution_count": 53,
   "id": "9f8b5cc1-11e5-485e-a22e-f01ecca56bc8",
   "metadata": {},
   "outputs": [
    {
     "data": {
      "image/png": "[encoded data removed]",
      "text/plain": [
       "<Figure size 576x360 with 1 Axes>"
      ]
     },
     "metadata": {
      "needs_background": "light"
     },
     "output_type": "display_data"
    }
   ],
   "source": [
    "#we also want to see what is the timeframe of our dataset:\n",
    "\n",
    "articles_df['year'] = articles_df['article_date_created'].dt.year\n",
    "\n",
    "# Count articles per year\n",
    "articles_per_year = articles_df['year'].value_counts().sort_index()\n",
    "\n",
    "# Plot\n",
    "plt.figure(figsize=(8,5))\n",
    "articles_per_year.plot(kind='bar')\n",
    "plt.xlabel('Year')\n",
    "plt.ylabel('Number of articles')\n",
    "plt.title('Number of Articles Per Year')\n",
    "# Add numbers on top of each bar\n",
    "for idx, count in enumerate(articles_per_year):\n",
    "    plt.text(idx, count + 1, str(count), ha='center', va='bottom')\n",
    "\n",
    "plt.show()\n"
   ]
  },
  {
   "cell_type": "code",
   "execution_count": 54,
   "id": "b026c660-2061-4b95-8c64-0abd734c78f3",
   "metadata": {},
   "outputs": [],
   "source": [
    "#as we only want articles from 2016 to 2024:\n",
    "articles_df = articles_df[(articles_df['article_date_created'].dt.year >= 2016) & \n",
    "                          (articles_df['article_date_created'].dt.year <= 2024)]"
   ]
  },
  {
   "cell_type": "code",
   "execution_count": 55,
   "id": "cf8d9938-6121-4388-ae40-4ff3a88aa895",
   "metadata": {},
   "outputs": [
    {
     "data": {
      "image/png": "[encoded data removed]",
      "text/plain": [
       "<Figure size 576x360 with 1 Axes>"
      ]
     },
     "metadata": {
      "needs_background": "light"
     },
     "output_type": "display_data"
    }
   ],
   "source": [
    "#we also want to see what is the timeframe of our dataset:\n",
    "\n",
    "articles_df['year'] = articles_df['article_date_created'].dt.year\n",
    "\n",
    "# Count articles per year\n",
    "articles_per_year = articles_df['year'].value_counts().sort_index()\n",
    "\n",
    "# Plot\n",
    "plt.figure(figsize=(8,5))\n",
    "articles_per_year.plot(kind='bar')\n",
    "plt.xlabel('Year')\n",
    "plt.ylabel('Number of articles')\n",
    "plt.title('Number of Articles Per Year')\n",
    "# Add numbers on top of each bar\n",
    "for idx, count in enumerate(articles_per_year):\n",
    "    plt.text(idx, count + 1, str(count), ha='center', va='bottom')\n",
    "\n",
    "plt.show()\n"
   ]
  },
  {
   "cell_type": "code",
   "execution_count": 56,
   "id": "a2722a7b-53d9-4758-9877-82f7fa0d8ad2",
   "metadata": {},
   "outputs": [],
   "source": [
    "#we save this clean data into another csv\n",
    "articles_df.to_csv('cleaned_articles_2016_2024.csv', index=False)\n"
   ]
  },
  {
   "cell_type": "markdown",
   "id": "44c771d7-85fb-45bb-9ff6-06ea3c7f8655",
   "metadata": {},
   "source": [
    "## Tidy up the comments ##"
   ]
  },
  {
   "cell_type": "code",
   "execution_count": 36,
   "id": "790644c5-436e-4fa3-9802-6b85964a6c37",
   "metadata": {},
   "outputs": [
    {
     "data": {
      "text/plain": [
       "79699"
      ]
     },
     "execution_count": 36,
     "metadata": {},
     "output_type": "execute_result"
    }
   ],
   "source": [
    "#i want to keep the comments on the articles that are present in the articles dataset (so only 2016-2024)\n",
    "comments_df = comments_df[comments_df['article_url'].isin(articles_df['article_url'])]"
   ]
  },
  {
   "cell_type": "code",
   "execution_count": 57,
   "id": "3817b196-b7fe-45a6-892d-78b414a83d2b",
   "metadata": {},
   "outputs": [],
   "source": [
    "#we create a funcction to clean the comment texts\n",
    "def clean_comment_text(text):\n",
    "    #lowercase\n",
    "    text = text.lower()\n",
    "    #remove extra white sapce\n",
    "    text = re.sub(r'\\s+', ' ', text).strip()\n",
    "    #remove the username when they reply to eachother\n",
    "    text = re.sub(r'@\\w+(?:\\s\\w+)*:', '', text)\n",
    "\n",
    "    return text\n",
    "\n",
    "#we apply this function to the comment texts \n",
    "comments_df['cleaned_comment'] = comments_df['comment_text'].apply(clean_comment_text)\n"
   ]
  },
  {
   "cell_type": "code",
   "execution_count": 58,
   "id": "7749977f-e462-4847-8e12-23397f964712",
   "metadata": {},
   "outputs": [
    {
     "name": "stdout",
     "output_type": "stream",
     "text": [
      "                                         article_url  \\\n",
      "0  https://www.thejournal.ie/government-seeking-e...   \n",
      "1  https://www.thejournal.ie/government-seeking-e...   \n",
      "2  https://www.thejournal.ie/government-seeking-e...   \n",
      "3  https://www.thejournal.ie/government-seeking-e...   \n",
      "4  https://www.thejournal.ie/government-seeking-e...   \n",
      "\n",
      "                                        comment_text           comment_date  \\\n",
      "0  An early warning system implies passivity and ...  Feb 9th 2021, 6:53 PM   \n",
      "1  @Fachtna Roe: At the very least we should be c...  Feb 9th 2021, 7:16 PM   \n",
      "2  I hate to admit it but for the first time ever...  Feb 9th 2021, 7:52 PM   \n",
      "3  @Mr Kayfabe: That some people on the remain si...  Feb 9th 2021, 8:11 PM   \n",
      "4  @Mr Kayfabe: the EU26 stuck with us throughout...  Feb 9th 2021, 9:04 PM   \n",
      "\n",
      "                                     cleaned_comment  \n",
      "0  an early warning system implies passivity and ...  \n",
      "1   at the very least we should be consulted befo...  \n",
      "2  i hate to admit it but for the first time ever...  \n",
      "3   that some people on the remain side in the uk...  \n",
      "4   the eu26 stuck with us throughout the 4 years...  \n"
     ]
    }
   ],
   "source": [
    "print(comments_df.head())"
   ]
  },
  {
   "cell_type": "code",
   "execution_count": 59,
   "id": "600a9228-c8da-4ff0-b73c-50ce5b0f305b",
   "metadata": {},
   "outputs": [],
   "source": [
    "#we need to convert to datetime the dates for the comment data\n",
    "\n",
    "#first we need to remove the suffix for the dates 'st' 'nd', 'rd', 'th'\n",
    "comments_df['comment_date'] = comments_df['comment_date'].str.replace(\n",
    "    r'(\\d+)(st|nd|rd|th)', r'\\1', regex=True\n",
    ")\n",
    "\n",
    "#then we format to datetime the dates for the comment data too\n",
    "comments_df['comment_date'] = pd.to_datetime(\n",
    "    comments_df['comment_date'], format='%b %d %Y, %I:%M %p', errors='coerce'\n",
    ")\n"
   ]
  },
  {
   "cell_type": "code",
   "execution_count": 60,
   "id": "05a631b8-2304-4518-a072-ba13d824594f",
   "metadata": {},
   "outputs": [
    {
     "name": "stdout",
     "output_type": "stream",
     "text": [
      "                                         article_url  \\\n",
      "0  https://www.thejournal.ie/government-seeking-e...   \n",
      "1  https://www.thejournal.ie/government-seeking-e...   \n",
      "2  https://www.thejournal.ie/government-seeking-e...   \n",
      "3  https://www.thejournal.ie/government-seeking-e...   \n",
      "4  https://www.thejournal.ie/government-seeking-e...   \n",
      "\n",
      "                                        comment_text        comment_date  \\\n",
      "0  An early warning system implies passivity and ... 2021-02-09 18:53:00   \n",
      "1  @Fachtna Roe: At the very least we should be c... 2021-02-09 19:16:00   \n",
      "2  I hate to admit it but for the first time ever... 2021-02-09 19:52:00   \n",
      "3  @Mr Kayfabe: That some people on the remain si... 2021-02-09 20:11:00   \n",
      "4  @Mr Kayfabe: the EU26 stuck with us throughout... 2021-02-09 21:04:00   \n",
      "\n",
      "                                     cleaned_comment  \n",
      "0  an early warning system implies passivity and ...  \n",
      "1   at the very least we should be consulted befo...  \n",
      "2  i hate to admit it but for the first time ever...  \n",
      "3   that some people on the remain side in the uk...  \n",
      "4   the eu26 stuck with us throughout the 4 years...  \n"
     ]
    }
   ],
   "source": [
    "#we check that the data looks fine\n",
    "print(comments_df.head())"
   ]
  },
  {
   "cell_type": "code",
   "execution_count": 61,
   "id": "13433b99-4128-44e2-a2b7-a8f7e4806d4c",
   "metadata": {},
   "outputs": [],
   "source": [
    "#we save again into a separate csv file these cleaned comments \n",
    "comments_df.to_csv('cleaned_comments_2016_2024.csv', index=False)"
   ]
  },
  {
   "cell_type": "code",
   "execution_count": null,
   "id": "b223e689-bbfd-45c9-bcb1-6fdf4f6fded1",
   "metadata": {},
   "outputs": [],
   "source": []
  },
  {
   "cell_type": "code",
   "execution_count": null,
   "id": "81469e96-9f06-462e-babd-abc97ba8ef74",
   "metadata": {},
   "outputs": [],
   "source": []
  }
 ],
 "metadata": {
  "kernelspec": {
   "display_name": "Python 3 (ipykernel)",
   "language": "python",
   "name": "python3"
  },
  "language_info": {
   "codemirror_mode": {
    "name": "ipython",
    "version": 3
   },
   "file_extension": ".py",
   "mimetype": "text/x-python",
   "name": "python",
   "nbconvert_exporter": "python",
   "pygments_lexer": "ipython3",
   "version": "3.8.8"
  }
 },
 "nbformat": 4,
 "nbformat_minor": 5
}
