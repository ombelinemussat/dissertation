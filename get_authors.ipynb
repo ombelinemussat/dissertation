{
 "cells": [
  {
   "cell_type": "code",
   "execution_count": 21,
   "id": "be9e6d30-6ee2-41b6-ad3a-7a62b9980256",
   "metadata": {},
   "outputs": [],
   "source": [
    "import pandas as pd\n",
    "import requests\n",
    "from bs4 import BeautifulSoup\n",
    "import time\n"
   ]
  },
  {
   "cell_type": "code",
   "execution_count": 22,
   "id": "90de3c71-f4cb-45ba-84ac-c7210e3e97a4",
   "metadata": {
    "scrolled": true
   },
   "outputs": [
    {
     "data": {
      "text/html": [
       "<div>\n",
       "<style scoped>\n",
       "    .dataframe tbody tr th:only-of-type {\n",
       "        vertical-align: middle;\n",
       "    }\n",
       "\n",
       "    .dataframe tbody tr th {\n",
       "        vertical-align: top;\n",
       "    }\n",
       "\n",
       "    .dataframe thead th {\n",
       "        text-align: right;\n",
       "    }\n",
       "</style>\n",
       "<table border=\"1\" class=\"dataframe\">\n",
       "  <thead>\n",
       "    <tr style=\"text-align: right;\">\n",
       "      <th></th>\n",
       "      <th>article_url</th>\n",
       "      <th>article_text</th>\n",
       "      <th>article_date_created</th>\n",
       "      <th>article_date_updated</th>\n",
       "      <th>cleaned_text</th>\n",
       "      <th>num_comments</th>\n",
       "      <th>year</th>\n",
       "      <th>month</th>\n",
       "      <th>negativity</th>\n",
       "      <th>assigned_topic</th>\n",
       "      <th>negativity_percent</th>\n",
       "    </tr>\n",
       "  </thead>\n",
       "  <tbody>\n",
       "    <tr>\n",
       "      <th>0</th>\n",
       "      <td>https://www.the42.ie/10-team-league-of-ireland...</td>\n",
       "      <td>IT’S BEEN QUITE the year for people casting vo...</td>\n",
       "      <td>2017-03-03</td>\n",
       "      <td>NaN</td>\n",
       "      <td>it’s been quite the year for people casting vo...</td>\n",
       "      <td>14</td>\n",
       "      <td>2017</td>\n",
       "      <td>2017-03</td>\n",
       "      <td>17</td>\n",
       "      <td>Ireland-Northern Ireland Border and Sovereignt...</td>\n",
       "      <td>2.093596</td>\n",
       "    </tr>\n",
       "    <tr>\n",
       "      <th>1</th>\n",
       "      <td>https://www.the42.ie/antrim-hurling-brexit-328...</td>\n",
       "      <td>ANTRIM HURLER NEIL McManus has serious concern...</td>\n",
       "      <td>2017-03-14</td>\n",
       "      <td>NaN</td>\n",
       "      <td>antrim hurler neil mcmanus has serious concern...</td>\n",
       "      <td>1</td>\n",
       "      <td>2017</td>\n",
       "      <td>2017-03</td>\n",
       "      <td>25</td>\n",
       "      <td>Brexit Political Landscape and Leadership</td>\n",
       "      <td>5.387931</td>\n",
       "    </tr>\n",
       "    <tr>\n",
       "      <th>2</th>\n",
       "      <td>https://www.the42.ie/brexit-irish-football-528...</td>\n",
       "      <td>THE ENGLISH FA, Premier League and English Foo...</td>\n",
       "      <td>2020-12-01</td>\n",
       "      <td>NaN</td>\n",
       "      <td>the english fa, premier league and english foo...</td>\n",
       "      <td>2</td>\n",
       "      <td>2020</td>\n",
       "      <td>2020-12</td>\n",
       "      <td>6</td>\n",
       "      <td>Brexit Withdrawal Agreements and Protocols</td>\n",
       "      <td>1.333333</td>\n",
       "    </tr>\n",
       "    <tr>\n",
       "      <th>3</th>\n",
       "      <td>https://www.the42.ie/brexit-premier-league-pro...</td>\n",
       "      <td>THE FOOTBALL ASSOCIATION plans to reduce the n...</td>\n",
       "      <td>2018-11-13</td>\n",
       "      <td>NaN</td>\n",
       "      <td>the football association plans to reduce the n...</td>\n",
       "      <td>10</td>\n",
       "      <td>2018</td>\n",
       "      <td>2018-11</td>\n",
       "      <td>1</td>\n",
       "      <td>Trade, Economic Impact, and Business Concerns</td>\n",
       "      <td>0.480769</td>\n",
       "    </tr>\n",
       "    <tr>\n",
       "      <th>4</th>\n",
       "      <td>https://www.the42.ie/brexit-uk-football-clubs-...</td>\n",
       "      <td>FOOTBALL CLUBS IN Britain are bracing themselv...</td>\n",
       "      <td>2020-01-29</td>\n",
       "      <td>NaN</td>\n",
       "      <td>football clubs in britain are bracing themselv...</td>\n",
       "      <td>19</td>\n",
       "      <td>2020</td>\n",
       "      <td>2020-01</td>\n",
       "      <td>10</td>\n",
       "      <td>Trade, Economic Impact, and Business Concerns</td>\n",
       "      <td>1.919386</td>\n",
       "    </tr>\n",
       "  </tbody>\n",
       "</table>\n",
       "</div>"
      ],
      "text/plain": [
       "                                         article_url  \\\n",
       "0  https://www.the42.ie/10-team-league-of-ireland...   \n",
       "1  https://www.the42.ie/antrim-hurling-brexit-328...   \n",
       "2  https://www.the42.ie/brexit-irish-football-528...   \n",
       "3  https://www.the42.ie/brexit-premier-league-pro...   \n",
       "4  https://www.the42.ie/brexit-uk-football-clubs-...   \n",
       "\n",
       "                                        article_text article_date_created  \\\n",
       "0  IT’S BEEN QUITE the year for people casting vo...           2017-03-03   \n",
       "1  ANTRIM HURLER NEIL McManus has serious concern...           2017-03-14   \n",
       "2  THE ENGLISH FA, Premier League and English Foo...           2020-12-01   \n",
       "3  THE FOOTBALL ASSOCIATION plans to reduce the n...           2018-11-13   \n",
       "4  FOOTBALL CLUBS IN Britain are bracing themselv...           2020-01-29   \n",
       "\n",
       "  article_date_updated                                       cleaned_text  \\\n",
       "0                  NaN  it’s been quite the year for people casting vo...   \n",
       "1                  NaN  antrim hurler neil mcmanus has serious concern...   \n",
       "2                  NaN  the english fa, premier league and english foo...   \n",
       "3                  NaN  the football association plans to reduce the n...   \n",
       "4                  NaN  football clubs in britain are bracing themselv...   \n",
       "\n",
       "   num_comments  year    month  negativity  \\\n",
       "0            14  2017  2017-03          17   \n",
       "1             1  2017  2017-03          25   \n",
       "2             2  2020  2020-12           6   \n",
       "3            10  2018  2018-11           1   \n",
       "4            19  2020  2020-01          10   \n",
       "\n",
       "                                      assigned_topic  negativity_percent  \n",
       "0  Ireland-Northern Ireland Border and Sovereignt...            2.093596  \n",
       "1          Brexit Political Landscape and Leadership            5.387931  \n",
       "2         Brexit Withdrawal Agreements and Protocols            1.333333  \n",
       "3      Trade, Economic Impact, and Business Concerns            0.480769  \n",
       "4      Trade, Economic Impact, and Business Concerns            1.919386  "
      ]
     },
     "execution_count": 22,
     "metadata": {},
     "output_type": "execute_result"
    }
   ],
   "source": [
    "#load the file (at this point in the analysis, we have obtained the topics so we use the last updated dataset\n",
    "df = pd.read_csv(\"articles_with_LDA.csv\")  \n",
    "df.head()"
   ]
  },
  {
   "cell_type": "code",
   "execution_count": null,
   "id": "5c99ffd5-720f-4ae8-93b9-bafcded6be2a",
   "metadata": {},
   "outputs": [],
   "source": [
    "#the scraping of authors was briken into 500 urls each time as it would not allow full scraping at once. "
   ]
  },
  {
   "cell_type": "code",
   "execution_count": 3,
   "id": "77448b57-d187-4efd-b6f4-02ba79ebf18b",
   "metadata": {},
   "outputs": [],
   "source": [
    "all_authors = []\n",
    "all_urls = []\n"
   ]
  },
  {
   "cell_type": "code",
   "execution_count": 4,
   "id": "dfe69d29-71d6-4075-b89b-234f4133eca2",
   "metadata": {},
   "outputs": [],
   "source": [
    "#this following code was partially generated with the help of ChatGPT-4o-mini\n",
    "def get_author(url):\n",
    "    try:\n",
    "        response = requests.get(url)\n",
    "        soup = BeautifulSoup(response.content, \"html.parser\")\n",
    "        author_tag = soup.find(\"a\", rel=\"author\")\n",
    "        return author_tag.text.strip() if author_tag else \"Unknown\"\n",
    "    except:\n",
    "        return \"NA\""
   ]
  },
  {
   "cell_type": "code",
   "execution_count": 5,
   "id": "f1371179-ed43-422f-8c64-4c4f609eab16",
   "metadata": {},
   "outputs": [
    {
     "name": "stdout",
     "output_type": "stream",
     "text": [
      "                                         article_url             author\n",
      "0  https://www.thejournal.ie/government-seeking-e...       Nora Creamer\n",
      "1  https://www.thejournal.ie/rishi-sunak-northern...  Press Association\n",
      "2  https://www.thejournal.ie/migration-uk-eu-afte...        CJ McKinney\n",
      "3  https://www.thejournal.ie/irish-exports-highes...       Céimin Burke\n",
      "4  https://www.thejournal.ie/uk-bill-visa-non-eu-...       Nora Creamer\n"
     ]
    }
   ],
   "source": [
    "df_sample = df.iloc[0:500].copy()  #first 500 rows\n",
    "\n",
    "df_sample['author'] = df_sample['article_url'].apply(get_author)\n",
    "all_authors.extend(df_sample['author'].tolist())\n",
    "all_urls.extend(df_sample['article_url'].tolist())\n",
    "\n",
    "#we print to make sure we have what we wanted\n",
    "print(df_sample[['article_url', 'author']].head())\n"
   ]
  },
  {
   "cell_type": "code",
   "execution_count": 7,
   "id": "82310c00-c0ce-4f58-bccb-0cf506f83ac7",
   "metadata": {},
   "outputs": [
    {
     "name": "stdout",
     "output_type": "stream",
     "text": [
      "                                           article_url             author\n",
      "500  https://www.thejournal.ie/northern-ireland-bus...  Press Association\n",
      "501  https://www.thejournal.ie/brexit-boris-johnson...  Stephen McDermott\n",
      "502  https://www.thejournal.ie/boris-johnson-uk-ele...       Nora Creamer\n",
      "503  https://www.thejournal.ie/arlene-foster-irish-...  Michelle Hennessy\n",
      "504  https://www.thejournal.ie/uk-calls-for-realism...       Nora Creamer\n"
     ]
    }
   ],
   "source": [
    "df_sample = df.iloc[500:1000].copy()  #rows 500 to 999\n",
    "\n",
    "df_sample['author'] = df_sample['article_url'].apply(get_author)\n",
    "all_authors.extend(df_sample['author'].tolist())\n",
    "all_urls.extend(df_sample['article_url'].tolist())\n",
    "\n",
    "print(df_sample[['article_url', 'author']].head())\n"
   ]
  },
  {
   "cell_type": "code",
   "execution_count": 8,
   "id": "c267a7d1-945d-452c-adca-ee9b8a1bb340",
   "metadata": {},
   "outputs": [
    {
     "name": "stdout",
     "output_type": "stream",
     "text": [
      "                                           article_url            author\n",
      "995  https://www.thejournal.ie/trump-hits-out-at-wa...      Cónal Thomas\n",
      "996  https://www.thejournal.ie/brexit-talks-3-48499...      Nora Creamer\n",
      "997  https://www.thejournal.ie/pence-shannon-irish-...     Daragh Brophy\n",
      "998  https://www.thejournal.ie/paschal-donohoe-irel...  Gráinne Ní Aodha\n",
      "999  https://www.thejournal.ie/irish-business-no-de...         Órla Ryan\n"
     ]
    }
   ],
   "source": [
    "print(df_sample[['article_url', 'author']].tail())\n",
    "#we check the end tail too to make sure the results are as expected"
   ]
  },
  {
   "cell_type": "code",
   "execution_count": 9,
   "id": "d9daf99a-c1a0-44cc-82d9-b4bd8caac15e",
   "metadata": {},
   "outputs": [
    {
     "name": "stdout",
     "output_type": "stream",
     "text": [
      "                                            article_url           author\n",
      "1000  https://www.thejournal.ie/scotland-brexit-no-d...     Nora Creamer\n",
      "1001  https://www.thejournal.ie/sinn-fein-border-cus...  Dominic McGrath\n",
      "1002  https://www.thejournal.ie/factcheck-brexit-gb-...  Dominic McGrath\n",
      "1003  https://www.thejournal.ie/after-a-week-of-reje...     Cónal Thomas\n",
      "1004  https://www.thejournal.ie/boris-brexit-30-days...   Christina Finn\n"
     ]
    }
   ],
   "source": [
    "df_sample = df.iloc[1000:1500].copy()  #rows 1000 to 1499\n",
    "\n",
    "df_sample['author'] = df_sample['article_url'].apply(get_author)\n",
    "all_authors.extend(df_sample['author'].tolist())\n",
    "all_urls.extend(df_sample['article_url'].tolist())\n",
    "\n",
    "print(df_sample[['article_url', 'author']].head())\n"
   ]
  },
  {
   "cell_type": "code",
   "execution_count": 10,
   "id": "78665a00-0010-43f8-a31e-ee09020a4800",
   "metadata": {},
   "outputs": [
    {
     "name": "stdout",
     "output_type": "stream",
     "text": [
      "                                            article_url             author\n",
      "1495  https://www.thejournal.ie/best-april-fools-jok...  Stephen McDermott\n",
      "1496  https://www.thejournal.ie/brexit-corbyn-443431...  Cormac Fitzgerald\n",
      "1497  https://www.thejournal.ie/john-bercow-deadlock...   Gráinne Ní Aodha\n",
      "1498  https://www.thejournal.ie/varadkar-to-meet-mic...          Adam Daly\n",
      "1499  https://www.thejournal.ie/house-of-commons-bac...   Gráinne Ní Aodha\n"
     ]
    }
   ],
   "source": [
    "print(df_sample[['article_url', 'author']].tail())\n"
   ]
  },
  {
   "cell_type": "code",
   "execution_count": 11,
   "id": "5a2621e5-a8b4-4181-a7a4-1d4ef34c588c",
   "metadata": {},
   "outputs": [
    {
     "name": "stdout",
     "output_type": "stream",
     "text": [
      "                                            article_url             author\n",
      "1500  https://www.thejournal.ie/arlene-foster-no-har...      Daragh Brophy\n",
      "1501  https://www.thejournal.ie/brexit-poll-4-444256...  Cormac Fitzgerald\n",
      "1502  https://www.thejournal.ie/brexit-checks-northe...      Hayley Halpin\n",
      "1503  https://www.thejournal.ie/brexit-newsletter-th...   Sinead O'Carroll\n",
      "1504  https://www.thejournal.ie/tusk-commons-deal-45...      Daragh Brophy\n"
     ]
    }
   ],
   "source": [
    "df_sample = df.iloc[1500:2000].copy()  #rows 1500 to 1999\n",
    "\n",
    "df_sample['author'] = df_sample['article_url'].apply(get_author)\n",
    "all_authors.extend(df_sample['author'].tolist())\n",
    "all_urls.extend(df_sample['article_url'].tolist())\n",
    "\n",
    "print(df_sample[['article_url', 'author']].head())\n"
   ]
  },
  {
   "cell_type": "code",
   "execution_count": 12,
   "id": "e1ecfbad-a442-4def-99fa-bb57eae81a06",
   "metadata": {},
   "outputs": [
    {
     "name": "stdout",
     "output_type": "stream",
     "text": [
      "                                            article_url             author\n",
      "1995  https://www.thejournal.ie/post-brexit-border-u...       Paul Hosford\n",
      "1996  https://www.thejournal.ie/brexit-ireland-borde...  Cormac Fitzgerald\n",
      "1997  https://www.thejournal.ie/brexit-poll-governme...        Rónán Duffy\n",
      "1998  https://www.thejournal.ie/british-politician-i...        Sean Murray\n",
      "1999  https://www.thejournal.ie/brexit-customs-35034...     Christina Finn\n"
     ]
    }
   ],
   "source": [
    "print(df_sample[['article_url', 'author']].tail())\n"
   ]
  },
  {
   "cell_type": "code",
   "execution_count": 13,
   "id": "eb1e43cc-8268-409f-88ce-fd0777fc90f2",
   "metadata": {},
   "outputs": [
    {
     "name": "stdout",
     "output_type": "stream",
     "text": [
      "                                            article_url            author\n",
      "2000  https://www.thejournal.ie/theresa-may-post-bre...    Christina Finn\n",
      "2001  https://www.thejournal.ie/leo-varadkar-frances...  Gráinne Ní Aodha\n",
      "2002  https://www.thejournal.ie/power-games-brexit-3...     Daragh Brophy\n",
      "2003  https://www.thejournal.ie/border-brexit-irelan...       Rónán Duffy\n",
      "2004  https://www.thejournal.ie/uk-second-brexit-ref...     Hayley Halpin\n"
     ]
    }
   ],
   "source": [
    "df_sample = df.iloc[2000:2532].copy()  #rows 2000 to 2532\n",
    "\n",
    "df_sample['author'] = df_sample['article_url'].apply(get_author)\n",
    "all_authors.extend(df_sample['author'].tolist())\n",
    "all_urls.extend(df_sample['article_url'].tolist())\n",
    "\n",
    "print(df_sample[['article_url', 'author']].head())\n"
   ]
  },
  {
   "cell_type": "code",
   "execution_count": 14,
   "id": "34bf1c13-d3fb-4e48-9a75-883ec572e675",
   "metadata": {},
   "outputs": [
    {
     "name": "stdout",
     "output_type": "stream",
     "text": [
      "                                            article_url        author\n",
      "2527  https://www.thejournal.ie/ireland-eu-attitude-...  Paul Hosford\n",
      "2528  https://www.thejournal.ie/obama-brexit-2853540...  Isabel Hayes\n",
      "2529  https://www.thejournal.ie/readme/brexit-multic...   Gordon Reid\n",
      "2530  https://www.thejournal.ie/eu-referendum-and-br...  Paul Hosford\n",
      "2531  https://www.thejournal.ie/collins-word-of-the-...     Órla Ryan\n"
     ]
    }
   ],
   "source": [
    "print(df_sample[['article_url', 'author']].tail())\n"
   ]
  },
  {
   "cell_type": "code",
   "execution_count": 15,
   "id": "af8793cc-e57e-41f7-acec-460041b01add",
   "metadata": {},
   "outputs": [],
   "source": [
    "df_authors = pd.DataFrame({\n",
    "    'article_url': all_urls,\n",
    "    'author': all_authors\n",
    "})\n"
   ]
  },
  {
   "cell_type": "code",
   "execution_count": 16,
   "id": "9ad9ad0a-719f-4604-a1ec-2b12242f7145",
   "metadata": {},
   "outputs": [],
   "source": [
    "#we merge the authors with the article data\n",
    "df = df.merge(df_authors, on='article_url', how='left')\n"
   ]
  },
  {
   "cell_type": "code",
   "execution_count": 28,
   "id": "3b4ff2ef-b696-4121-829d-ddfccc329888",
   "metadata": {},
   "outputs": [],
   "source": [
    "df.to_csv(\"final_df_without_commentsentiment.csv\", index=False)"
   ]
  },
  {
   "cell_type": "code",
   "execution_count": 32,
   "id": "ef6de555-1f0c-44a3-9c91-cbc04a79b140",
   "metadata": {},
   "outputs": [],
   "source": []
  },
  {
   "cell_type": "code",
   "execution_count": null,
   "id": "4f7e77f8-b719-471e-987e-7d75826e8719",
   "metadata": {},
   "outputs": [],
   "source": []
  }
 ],
 "metadata": {
  "kernelspec": {
   "display_name": "Python 3 (ipykernel)",
   "language": "python",
   "name": "python3"
  },
  "language_info": {
   "codemirror_mode": {
    "name": "ipython",
    "version": 3
   },
   "file_extension": ".py",
   "mimetype": "text/x-python",
   "name": "python",
   "nbconvert_exporter": "python",
   "pygments_lexer": "ipython3",
   "version": "3.8.8"
  }
 },
 "nbformat": 4,
 "nbformat_minor": 5
}
